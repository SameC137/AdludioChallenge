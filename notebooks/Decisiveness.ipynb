{
 "cells": [
  {
   "cell_type": "code",
   "execution_count": null,
   "source": [
    "import pandas as pd\r\n",
    "from sklearn.linear_model import LogisticRegression\r\n",
    "\r\n",
    "from sklearn.model_selection import GridSearchCV\r\n",
    "from sklearn.model_selection import train_test_split\r\n",
    "import numpy as np\r\n",
    "import mlflow"
   ],
   "outputs": [],
   "metadata": {}
  },
  {
   "cell_type": "code",
   "execution_count": null,
   "source": [
    "data=pd.read_csv('../data/impression_log.csv',index_col=0)"
   ],
   "outputs": [],
   "metadata": {}
  },
  {
   "cell_type": "code",
   "execution_count": null,
   "source": [
    "decsisive_data=data[[\"AdFormat\", \"FoldPosition\", \"OS\", \"DeviceType\",\"engagement\"]].copy()"
   ],
   "outputs": [],
   "metadata": {}
  },
  {
   "cell_type": "code",
   "execution_count": null,
   "source": [
    "decsisive_data.info()"
   ],
   "outputs": [],
   "metadata": {}
  },
  {
   "cell_type": "code",
   "execution_count": null,
   "source": [
    "decsisive_data.dropna(inplace=True)"
   ],
   "outputs": [],
   "metadata": {}
  },
  {
   "cell_type": "code",
   "execution_count": null,
   "source": [
    "X=pd.get_dummies(decsisive_data,columns=[\"AdFormat\", \"FoldPosition\", \"OS\", \"DeviceType\"])\r\n",
    "y=X[\"engagement\"]\r\n",
    "X=X.drop(\"engagement\",axis=1,inplace=False)\r\n",
    "columns=X.columns.to_list()"
   ],
   "outputs": [],
   "metadata": {}
  },
  {
   "cell_type": "code",
   "execution_count": null,
   "source": [
    "\r\n",
    "x_train, x_test, y_train, y_test=train_test_split(X,y,test_size=0.3)"
   ],
   "outputs": [],
   "metadata": {}
  },
  {
   "cell_type": "code",
   "execution_count": null,
   "source": [
    "\r\n",
    "\r\n",
    "param_grid={\"C\":np.logspace(-3,3,7), \"penalty\":[\"l1\",\"l2\"]}\r\n",
    "\r\n",
    "mlflow.sklearn.autolog()\r\n",
    "\r\n",
    "with mlflow.start_run(run_name=\"LogisticRegression\"):\r\n",
    "    logreg=LogisticRegression()\r\n",
    "    logreg_cv=GridSearchCV(logreg,param_grid,cv=10)\r\n",
    "    logreg_cv.fit(x_train,y_train)\r\n",
    "\r\n",
    "    print(\"tuned hpyerparameters :(best parameters) \",logreg_cv.best_params_)\r\n",
    "    print(\"accuracy :\",logreg_cv.best_score_)\r\n",
    "mlflow.end_run()"
   ],
   "outputs": [],
   "metadata": {}
  },
  {
   "cell_type": "code",
   "execution_count": null,
   "source": [],
   "outputs": [],
   "metadata": {}
  }
 ],
 "metadata": {
  "orig_nbformat": 4,
  "language_info": {
   "name": "python"
  }
 },
 "nbformat": 4,
 "nbformat_minor": 2
}