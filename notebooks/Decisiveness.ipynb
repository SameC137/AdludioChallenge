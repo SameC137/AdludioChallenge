{
 "cells": [
  {
   "cell_type": "code",
   "execution_count": 66,
   "source": [
    "import pandas as pd\r\n",
    "from sklearn.linear_model import LogisticRegression\r\n",
    "\r\n",
    "\r\n",
    "from sklearn.ensemble import RandomForestClassifier\r\n",
    "\r\n",
    "from sklearn.model_selection import GridSearchCV\r\n",
    "from sklearn.model_selection import train_test_split\r\n",
    "import numpy as np\r\n",
    "import mlflow\r\n",
    "import warnings\r\n",
    "\r\n",
    "import seaborn as sns\r\n",
    "import matplotlib.pyplot as plt \r\n",
    "warnings.filterwarnings(\"ignore\")\r\n",
    "\r\n",
    "\r\n",
    "\r\n",
    "from sklearn.pipeline import Pipeline\r\n",
    "from sklearn.preprocessing import OneHotEncoder\r\n",
    "from sklearn.inspection import permutation_importance\r\n",
    "\r\n"
   ],
   "outputs": [],
   "metadata": {}
  },
  {
   "cell_type": "markdown",
   "source": [
    "Load Data "
   ],
   "metadata": {}
  },
  {
   "cell_type": "code",
   "execution_count": 48,
   "source": [
    "data=pd.read_csv('../data/impression_log.csv',index_col=0)"
   ],
   "outputs": [],
   "metadata": {}
  },
  {
   "cell_type": "markdown",
   "source": [
    "Select Columns relevant to our analysis"
   ],
   "metadata": {}
  },
  {
   "cell_type": "code",
   "execution_count": 49,
   "source": [
    "decsisive_data=data[[\"AdFormat\", \"FoldPosition\", \"OS\", \"DeviceType\",\"engagement\"]].copy()"
   ],
   "outputs": [],
   "metadata": {}
  },
  {
   "cell_type": "markdown",
   "source": [
    "See an overview of our columns and their data types"
   ],
   "metadata": {}
  },
  {
   "cell_type": "code",
   "execution_count": 4,
   "source": [
    "decsisive_data.info()"
   ],
   "outputs": [
    {
     "output_type": "stream",
     "name": "stdout",
     "text": [
      "<class 'pandas.core.frame.DataFrame'>\n",
      "Index: 100000 entries, 00006a06-14e2-47d9-b999-fbeeac67dd2b to 6404d38e-1669-4e0e-b6a4-dab8dc454f45\n",
      "Data columns (total 5 columns):\n",
      " #   Column        Non-Null Count   Dtype  \n",
      "---  ------        --------------   -----  \n",
      " 0   AdFormat      100000 non-null  object \n",
      " 1   FoldPosition  100000 non-null  int64  \n",
      " 2   OS            99993 non-null   float64\n",
      " 3   DeviceType    100000 non-null  int64  \n",
      " 4   engagement    100000 non-null  int64  \n",
      "dtypes: float64(1), int64(3), object(1)\n",
      "memory usage: 4.6+ MB\n"
     ]
    }
   ],
   "metadata": {}
  },
  {
   "cell_type": "markdown",
   "source": [
    "Remove null because they are such a small number of records. The information they would provide is not that much compared to the size of the data set."
   ],
   "metadata": {}
  },
  {
   "cell_type": "code",
   "execution_count": 50,
   "source": [
    "decsisive_data.dropna(inplace=True)"
   ],
   "outputs": [],
   "metadata": {}
  },
  {
   "cell_type": "markdown",
   "source": [
    "See the unique values for each column in our selected data"
   ],
   "metadata": {}
  },
  {
   "cell_type": "code",
   "execution_count": 6,
   "source": [
    "decsisive_data[\"OS\"].unique()"
   ],
   "outputs": [
    {
     "output_type": "execute_result",
     "data": {
      "text/plain": [
       "array([173., 156., 101., 162., 174., 167., 155., 169., 175., 141., 145.,\n",
       "       154.,   0., 172., 140., 171., 139., 166., 168., 165., 153., 150.,\n",
       "       136., 144., 112., 161., 170., 163., 164., 159., 160., 148., 157.,\n",
       "       151., 152., 111., 143., 110., 149., 146., 107., 108., 158., 109.,\n",
       "       147., 114., 137., 138., 113.])"
      ]
     },
     "metadata": {},
     "execution_count": 6
    }
   ],
   "metadata": {}
  },
  {
   "cell_type": "code",
   "execution_count": 7,
   "source": [
    "decsisive_data[\"FoldPosition\"].unique()"
   ],
   "outputs": [
    {
     "output_type": "execute_result",
     "data": {
      "text/plain": [
       "array([4, 2, 3], dtype=int64)"
      ]
     },
     "metadata": {},
     "execution_count": 7
    }
   ],
   "metadata": {}
  },
  {
   "cell_type": "code",
   "execution_count": 8,
   "source": [
    "decsisive_data[\"DeviceType\"].unique()"
   ],
   "outputs": [
    {
     "output_type": "execute_result",
     "data": {
      "text/plain": [
       "array([4, 3, 1], dtype=int64)"
      ]
     },
     "metadata": {},
     "execution_count": 8
    }
   ],
   "metadata": {}
  },
  {
   "cell_type": "code",
   "execution_count": 9,
   "source": [
    "decsisive_data[\"AdFormat\"].unique()"
   ],
   "outputs": [
    {
     "output_type": "execute_result",
     "data": {
      "text/plain": [
       "array(['300x250', '320x480'], dtype=object)"
      ]
     },
     "metadata": {},
     "execution_count": 9
    }
   ],
   "metadata": {}
  },
  {
   "cell_type": "code",
   "execution_count": 24,
   "source": [
    "from scipy.stats import chi2_contingency\r\n",
    "from scipy.stats import chi2\r\n"
   ],
   "outputs": [],
   "metadata": {}
  },
  {
   "cell_type": "markdown",
   "source": [
    "# Chi-Squared Test for Independence\r\n",
    ".\r\n",
    "We can not use pearsons correlation to find if our categorical values and the engagement is independent.  When dealing with the relationships between two categorical variables, we can’t use the same correlation method for continuous variables,​ we will have to employ the use of chi square test for the association.​ That is where the chi squared test comes in. Chi-Square test is a statistical test which is used to find out the difference between the observed and the expected data we can also use this test to find the correlation between categorical variables in our data. \r\n",
    "\r\n",
    "<pre>If Statistic >= Critical Value: significant result, reject null hypothesis (H0), dependent.\r\n",
    "If Statistic < Critical Value: not significant result, fail to reject null hypothesis (H0), independent.\r\n",
    "</pre>"
   ],
   "metadata": {}
  },
  {
   "cell_type": "markdown",
   "source": [
    "We first create crosstabs between our target factor and the engagement columns. We then use this to run our chi test."
   ],
   "metadata": {}
  },
  {
   "cell_type": "code",
   "execution_count": 23,
   "source": [
    "def chi_test_dependence(obs: pd.DataFrame, prob:float)->None:\r\n",
    "    \"\"\"Chi Test for independence.Based on code from https://machinelearningmastery.com/chi-squared-test-for-machine-learning/\r\n",
    "    Args:\r\n",
    "        obs (pd.DataFrame): The cross tab of the two features \r\n",
    "        prob (float): The probaility we want to test at\r\n",
    "    \"\"\"\r\n",
    "    stat, p, dof, ex = chi2_contingency(obs, correction=False)\r\n",
    "\r\n",
    "    critical = chi2.ppf(prob, dof)\r\n",
    "    print('probability=%.3f, critical=%.3f, stat=%.3f' % (prob, critical, stat))\r\n",
    "    if abs(stat) >= critical:\r\n",
    "        print('Dependent (reject H0)')\r\n",
    "    else:\r\n",
    "        print('Independent (fail to reject H0)')\r\n",
    "    # interpret p-value\r\n",
    "    alpha = 1.0 - prob\r\n",
    "    print('significance=%.3f, p=%.3f' % (alpha, p))\r\n",
    "    if p <= alpha:\r\n",
    "        print('Dependent (reject H0)')\r\n",
    "    else:\r\n",
    "        print('Independent (fail to reject H0)')"
   ],
   "outputs": [],
   "metadata": {}
  },
  {
   "cell_type": "code",
   "execution_count": 25,
   "source": [
    "obs=pd.crosstab(index=decsisive_data['AdFormat'], columns=decsisive_data['engagement'])\r\n",
    "chi_test_dependence(obs,0.95)"
   ],
   "outputs": [
    {
     "output_type": "stream",
     "name": "stdout",
     "text": [
      "probability=0.950, critical=3.841, stat=1424.750\n",
      "Dependent (reject H0)\n",
      "significance=0.050, p=0.000\n",
      "Dependent (reject H0)\n"
     ]
    }
   ],
   "metadata": {}
  },
  {
   "cell_type": "code",
   "execution_count": 26,
   "source": [
    "obs=pd.crosstab(index=decsisive_data['FoldPosition'], columns=decsisive_data['engagement'])\r\n",
    "chi_test_dependence(obs,0.95)"
   ],
   "outputs": [
    {
     "output_type": "stream",
     "name": "stdout",
     "text": [
      "probability=0.950, critical=5.991, stat=86.845\n",
      "Dependent (reject H0)\n",
      "significance=0.050, p=0.000\n",
      "Dependent (reject H0)\n"
     ]
    }
   ],
   "metadata": {}
  },
  {
   "cell_type": "code",
   "execution_count": 27,
   "source": [
    "obs=pd.crosstab(index=decsisive_data['OS'], columns=decsisive_data['engagement'])\r\n",
    "chi_test_dependence(obs,0.95)"
   ],
   "outputs": [
    {
     "output_type": "stream",
     "name": "stdout",
     "text": [
      "probability=0.950, critical=65.171, stat=257.738\n",
      "Dependent (reject H0)\n",
      "significance=0.050, p=0.000\n",
      "Dependent (reject H0)\n"
     ]
    }
   ],
   "metadata": {}
  },
  {
   "cell_type": "code",
   "execution_count": 28,
   "source": [
    "obs=pd.crosstab(index=decsisive_data['DeviceType'], columns=decsisive_data['engagement'])\r\n",
    "chi_test_dependence(obs,0.95)"
   ],
   "outputs": [
    {
     "output_type": "stream",
     "name": "stdout",
     "text": [
      "probability=0.950, critical=5.991, stat=749.130\n",
      "Dependent (reject H0)\n",
      "significance=0.050, p=0.000\n",
      "Dependent (reject H0)\n"
     ]
    }
   ],
   "metadata": {}
  },
  {
   "cell_type": "markdown",
   "source": [
    "We can see that all of the features have a dependent relationship with our target engagment'\r\n"
   ],
   "metadata": {}
  },
  {
   "cell_type": "markdown",
   "source": [
    "# ML Feature Importance\r\n",
    "Feature importance refers to techniques that assign a score to input features based on how useful they are at predicting a target variable. This tells us the a bit about the influence that these features have on engagement."
   ],
   "metadata": {}
  },
  {
   "cell_type": "markdown",
   "source": [
    "Separating our target and training features from the data"
   ],
   "metadata": {}
  },
  {
   "cell_type": "code",
   "execution_count": 52,
   "source": [
    "y=decsisive_data[\"engagement\"]\r\n",
    "X=decsisive_data.drop(\"engagement\",axis=1,inplace=False)\r\n",
    "columns=X.columns.to_list()"
   ],
   "outputs": [],
   "metadata": {}
  },
  {
   "cell_type": "markdown",
   "source": [
    "Train test split that we will use later to test the robustness of our model as well as the permutuation importance"
   ],
   "metadata": {}
  },
  {
   "cell_type": "code",
   "execution_count": 53,
   "source": [
    "\r\n",
    "x_train, x_test, y_train, y_test=train_test_split(X,y,test_size=0.3)"
   ],
   "outputs": [],
   "metadata": {}
  },
  {
   "cell_type": "markdown",
   "source": [
    "I will be using a random forest classifier as the model for this. We use one hot encoding to encode the features because we don't want to assign any ordinality to the categories. The ordinality created by label encoder or ordinal encoder can result in faulty calculations in our model where category A can be less than category B when that isn't inherent in the data. "
   ],
   "metadata": {}
  },
  {
   "cell_type": "code",
   "execution_count": 67,
   "source": [
    "mlflow.sklearn.autolog()\r\n",
    "with mlflow.start_run(run_name=\"RandomForest\"):\r\n",
    "    pipe = Pipeline(steps=[('encoding', OneHotEncoder(handle_unknown='ignore')), ('forest',  RandomForestClassifier(random_state=42))])\r\n",
    "    pipe.fit(x_train, y_train)\r\n",
    "mlflow.end_run()"
   ],
   "outputs": [
    {
     "output_type": "stream",
     "name": "stderr",
     "text": [
      "2021/10/01 11:23:06 WARNING mlflow.utils.autologging_utils: You are using an unsupported version of sklearn. If you encounter errors during autologging, try upgrading / downgrading sklearn to a supported version, or try upgrading MLflow.\n"
     ]
    }
   ],
   "metadata": {}
  },
  {
   "cell_type": "markdown",
   "source": [
    "Our Accuracy scores for the model. The model performs relatively well with 87% accuracy on the train and 87.2% on the test"
   ],
   "metadata": {}
  },
  {
   "cell_type": "code",
   "execution_count": 73,
   "source": [
    "print(\"RF train accuracy: %0.3f\" % pipe.score(x_train, y_train))\r\n",
    "print(\"RF test accuracy: %0.3f\" % pipe.score(x_test, y_test))"
   ],
   "outputs": [
    {
     "output_type": "stream",
     "name": "stdout",
     "text": [
      "RF train accuracy: 0.870\n",
      "RF test accuracy: 0.872\n"
     ]
    }
   ],
   "metadata": {}
  },
  {
   "cell_type": "markdown",
   "source": [
    "The feature importances from the random forest model. We can see that the low cardinality features have higher spots. This maybe because impurity-based feature importance can inflate the importance of numerical features. More can be read <a href=\"https://scikit-learn.org/stable/auto_examples/inspection/plot_permutation_importance.html\">Permutation Importance vs Random Forest Feature Importance (MDI)</a>. This also doesn't give us the importance of the features overall. We can see that the highest spots are taken by AdFormat, DeviceType, FoldPosition, OS respectively."
   ],
   "metadata": {}
  },
  {
   "cell_type": "code",
   "execution_count": 69,
   "source": [
    "ohe = (pipe.named_steps['encoding'])\r\n",
    "feature_names = ohe.get_feature_names_out(X.columns.to_list())\r\n",
    "\r\n",
    "\r\n",
    "feature_importances=pd.DataFrame((pipe.named_steps['forest'].feature_importances_).transpose() , index=feature_names, columns=['importance'])\r\n",
    "feature_importances.sort_values('importance',key=abs, ascending=False,inplace= True)\r\n",
    "plt.figure(figsize = (20,30))\r\n",
    "sns.barplot(y = feature_importances.index, x = feature_importances.importance)\r\n",
    "plt.title('Logistic Regression Feature Importances')\r\n",
    "plt.xticks(rotation = 45)\r\n"
   ],
   "outputs": [
    {
     "output_type": "execute_result",
     "data": {
      "text/plain": [
       "(array([0.  , 0.05, 0.1 , 0.15, 0.2 , 0.25]),\n",
       " [Text(0, 0, ''),\n",
       "  Text(0, 0, ''),\n",
       "  Text(0, 0, ''),\n",
       "  Text(0, 0, ''),\n",
       "  Text(0, 0, ''),\n",
       "  Text(0, 0, '')])"
      ]
     },
     "metadata": {},
     "execution_count": 69
    },
    {
     "output_type": "display_data",
     "data": {
      "image/png": "[encoded data removed]",
      "text/plain": [
       "<Figure size 1440x2160 with 1 Axes>"
      ]
     },
     "metadata": {
      "needs_background": "light"
     }
    }
   ],
   "metadata": {}
  },
  {
   "cell_type": "markdown",
   "source": [
    "# Permutation feature importance\r\n",
    ".\r\n",
    "The permutation feature importance is defined to be the decrease in a model score when a single feature value is randomly shuffled 1. This procedure breaks the relationship between the feature and the target, thus the drop in the model score is indicative of how much the model depends on the feature. We will use the random forest classifier model trained in previous step for this. \r\n"
   ],
   "metadata": {}
  },
  {
   "cell_type": "code",
   "execution_count": 71,
   "source": [
    "result = permutation_importance(pipe, x_train, y_train, n_repeats=10,\r\n",
    "                                random_state=42, n_jobs=2)\r\n",
    "sorted_idx = result.importances_mean.argsort()\r\n",
    "\r\n",
    "fig, ax = plt.subplots(figsize = (10,10))\r\n",
    "ax.boxplot(result.importances[sorted_idx].T,\r\n",
    "           vert=False, labels=x_train.columns[sorted_idx])\r\n",
    "ax.set_title(\"Permutation Importances (train set)\")\r\n",
    "fig.tight_layout()\r\n",
    "plt.show()"
   ],
   "outputs": [
    {
     "output_type": "display_data",
     "data": {
      "image/png": "[encoded data removed]",
      "text/plain": [
       "<Figure size 720x720 with 1 Axes>"
      ]
     },
     "metadata": {
      "needs_background": "light"
     }
    }
   ],
   "metadata": {}
  },
  {
   "cell_type": "code",
   "execution_count": 74,
   "source": [
    "\r\n",
    "result = permutation_importance(pipe, x_test, y_test, n_repeats=10,\r\n",
    "                                random_state=42, n_jobs=2)\r\n",
    "sorted_idx = result.importances_mean.argsort()\r\n",
    "\r\n",
    "fig, ax = plt.subplots(figsize = (10,10))\r\n",
    "ax.boxplot(result.importances[sorted_idx].T,\r\n",
    "           vert=False, labels=x_test.columns[sorted_idx])\r\n",
    "ax.set_title(\"Permutation Importances (test set)\")\r\n",
    "fig.tight_layout()\r\n",
    "plt.show()"
   ],
   "outputs": [
    {
     "output_type": "display_data",
     "data": {
      "image/png": "[encoded data removed]",
      "text/plain": [
       "<Figure size 720x720 with 1 Axes>"
      ]
     },
     "metadata": {
      "needs_background": "light"
     }
    }
   ],
   "metadata": {}
  },
  {
   "cell_type": "markdown",
   "source": [
    "## Conclusion\r\n",
    "\r\n",
    "When using the permutation feature importance. We can see that the order of importance is OS, AdFormat, FoldPosition, DeviceType. We can conclude the level of decisiveness to be similar to our feature importance findings. \r\n"
   ],
   "metadata": {}
  }
 ],
 "metadata": {
  "orig_nbformat": 4,
  "language_info": {
   "name": "python",
   "version": "3.8.11",
   "mimetype": "text/x-python",
   "codemirror_mode": {
    "name": "ipython",
    "version": 3
   },
   "pygments_lexer": "ipython3",
   "nbconvert_exporter": "python",
   "file_extension": ".py"
  },
  "kernelspec": {
   "name": "python3",
   "display_name": "Python 3.8.8 64-bit ('base': conda)"
  },
  "interpreter": {
   "hash": "3ebe1e15dab481e38dbc50cacd21ed8ec6b22a54b0f3cb3b993bb569cf9c8bed"
  }
 },
 "nbformat": 4,
 "nbformat_minor": 2
}